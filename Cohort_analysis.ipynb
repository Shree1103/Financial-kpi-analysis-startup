{
 "cells": [
  {
   "cell_type": "code",
   "execution_count": null,
   "id": "4e521ef4",
   "metadata": {
    "vscode": {
     "languageId": "plaintext"
    }
   },
   "outputs": [],
   "source": [
    "import pandas as pd\n",
    "\n",
    "# Load the dataset\n",
    "df = pd.read_excel(\"/mnt/data/startup_financials_dataset.xlsx\", sheet_name=\"Monthly Financials\")\n",
    "\n",
    "# Ensure Month column is datetime\n",
    "df['Month'] = pd.to_datetime(df['Month'])\n",
    "\n",
    "# Create a cohort index - first month of each customer\n",
    "df['CohortMonth'] = df['Month'].where(df['New Customers'] > 0)\n",
    "\n",
    "# Forward fill CohortMonth to associate each customer with their cohort\n",
    "df['CohortMonth'] = df['CohortMonth'].ffill()\n",
    "\n",
    "# Calculate months since acquisition (Cohort Index)\n",
    "df['MonthsSinceAcquisition'] = ((df['Month'].dt.year - df['CohortMonth'].dt.year) * 12 + \n",
    "                                (df['Month'].dt.month - df['CohortMonth'].dt.month))\n",
    "\n",
    "# Group by cohort and months since acquisition\n",
    "cohort_data = df.groupby(['CohortMonth', 'MonthsSinceAcquisition'])['Revenue'].sum().reset_index()\n",
    "\n",
    "# Pivot table for visualization\n",
    "cohort_pivot = cohort_data.pivot(index='CohortMonth', columns='MonthsSinceAcquisition', values='Revenue')\n",
    "print(cohort_pivot)\n"
   ]
  }
 ],
 "metadata": {
  "language_info": {
   "name": "python"
  }
 },
 "nbformat": 4,
 "nbformat_minor": 5
}
